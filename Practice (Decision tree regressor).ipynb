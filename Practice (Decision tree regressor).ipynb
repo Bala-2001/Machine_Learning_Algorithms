{
 "cells": [
  {
   "cell_type": "code",
   "execution_count": 4,
   "id": "fa418ab1",
   "metadata": {},
   "outputs": [],
   "source": [
    "import pandas as pd\n",
    "import numpy as np\n",
    "from sklearn.datasets import load_boston\n",
    "from sklearn.model_selection import train_test_split\n",
    "from sklearn.tree import DecisionTreeRegressor\n",
    "from sklearn.metrics import mean_squared_error\n",
    "import matplotlib.pyplot as plt"
   ]
  },
  {
   "cell_type": "code",
   "execution_count": 5,
   "id": "7d4b2f9a",
   "metadata": {},
   "outputs": [
    {
     "name": "stderr",
     "output_type": "stream",
     "text": [
      "C:\\Users\\vignesh\\anaconda3\\lib\\site-packages\\sklearn\\utils\\deprecation.py:87: FutureWarning: Function load_boston is deprecated; `load_boston` is deprecated in 1.0 and will be removed in 1.2.\n",
      "\n",
      "    The Boston housing prices dataset has an ethical problem. You can refer to\n",
      "    the documentation of this function for further details.\n",
      "\n",
      "    The scikit-learn maintainers therefore strongly discourage the use of this\n",
      "    dataset unless the purpose of the code is to study and educate about\n",
      "    ethical issues in data science and machine learning.\n",
      "\n",
      "    In this special case, you can fetch the dataset from the original\n",
      "    source::\n",
      "\n",
      "        import pandas as pd\n",
      "        import numpy as np\n",
      "\n",
      "\n",
      "        data_url = \"http://lib.stat.cmu.edu/datasets/boston\"\n",
      "        raw_df = pd.read_csv(data_url, sep=\"\\s+\", skiprows=22, header=None)\n",
      "        data = np.hstack([raw_df.values[::2, :], raw_df.values[1::2, :2]])\n",
      "        target = raw_df.values[1::2, 2]\n",
      "\n",
      "    Alternative datasets include the California housing dataset (i.e.\n",
      "    :func:`~sklearn.datasets.fetch_california_housing`) and the Ames housing\n",
      "    dataset. You can load the datasets as follows::\n",
      "\n",
      "        from sklearn.datasets import fetch_california_housing\n",
      "        housing = fetch_california_housing()\n",
      "\n",
      "    for the California housing dataset and::\n",
      "\n",
      "        from sklearn.datasets import fetch_openml\n",
      "        housing = fetch_openml(name=\"house_prices\", as_frame=True)\n",
      "\n",
      "    for the Ames housing dataset.\n",
      "    \n",
      "  warnings.warn(msg, category=FutureWarning)\n"
     ]
    }
   ],
   "source": [
    "# Loading the dataset\n",
    "boston=load_boston()\n",
    "x=pd.DataFrame(boston.data,columns=boston.feature_names)\n",
    "y=pd.Series(boston.target,name='MEDV')"
   ]
  },
  {
   "cell_type": "code",
   "execution_count": 6,
   "id": "1148e9c8",
   "metadata": {},
   "outputs": [],
   "source": [
    "# splitting the dataset\n",
    "x_train,x_test,y_train,y_test=train_test_split(x,y,test_size=0.2,random_state=42)"
   ]
  },
  {
   "cell_type": "code",
   "execution_count": 7,
   "id": "2bbca4bd",
   "metadata": {},
   "outputs": [
    {
     "data": {
      "text/plain": [
       "DecisionTreeRegressor()"
      ]
     },
     "execution_count": 7,
     "metadata": {},
     "output_type": "execute_result"
    }
   ],
   "source": [
    "#modeling the algorithm\n",
    "dtr=DecisionTreeRegressor()\n",
    "dtr.fit(x_train,y_train)"
   ]
  },
  {
   "cell_type": "code",
   "execution_count": 8,
   "id": "be666437",
   "metadata": {},
   "outputs": [
    {
     "data": {
      "text/plain": [
       "array([28.1, 33.1, 15.2, 21.7, 23.2, 18.5, 16.6, 16.7, 22.7, 22. , 27.1,\n",
       "       27.1,  7.4, 21.5, 18.7, 23.9, 21.4, 10.5, 44. , 13. , 22.6, 24.4,\n",
       "       13.6, 22. , 13.5, 13.5, 21. , 14.9, 19.4, 20.7, 18.8, 23.1, 17.8,\n",
       "       15. , 13.3, 15.6, 33.4, 19. , 22.4, 24.8, 19.8, 28.4, 46. , 18.2,\n",
       "       22. , 13. , 14.3, 24.1, 17.7, 33.1, 19.7, 34.9, 16.7, 32. , 43.1,\n",
       "       19.5, 15.6, 27.9, 22. , 22.5, 24.8, 33. , 29.4, 16.1, 27.9, 14.4,\n",
       "       13. , 23.2, 28. , 14.1, 21.2, 28.7,  8.3, 18.6, 21.5, 10.5, 19.2,\n",
       "       50. , 13.3,  8.1, 21. , 12. , 19.4, 10.5, 16.2, 30.1, 14.3, 23. ,\n",
       "       23.2, 18. , 23.3,  8.8, 19.8, 17.5, 15. , 19.2, 50. , 11.9, 11.7,\n",
       "       10.2, 18.5, 28.1])"
      ]
     },
     "execution_count": 8,
     "metadata": {},
     "output_type": "execute_result"
    }
   ],
   "source": [
    "y_pred=dtr.predict(x_test)\n",
    "y_pred"
   ]
  },
  {
   "cell_type": "code",
   "execution_count": 9,
   "id": "6311d402",
   "metadata": {},
   "outputs": [
    {
     "name": "stdout",
     "output_type": "stream",
     "text": [
      "11.506764705882356\n"
     ]
    }
   ],
   "source": [
    "# mean squared error\n",
    "print(mean_squared_error(y_test,y_pred))"
   ]
  },
  {
   "cell_type": "code",
   "execution_count": 13,
   "id": "ef5541cb",
   "metadata": {},
   "outputs": [],
   "source": [
    "# Visualize the decision tree regression line (optional)\n",
    "x_test_sorted = x_test.sort_values(by=x_test.columns[0])  # Using the first feature for visualization\n",
    "y_pred_sorted = dtr.predict(x_test_sorted)"
   ]
  },
  {
   "cell_type": "code",
   "execution_count": 14,
   "id": "8e111466",
   "metadata": {},
   "outputs": [
    {
     "data": {
      "image/png": "[encoded data removed]",
      "text/plain": [
       "<Figure size 432x288 with 1 Axes>"
      ]
     },
     "metadata": {
      "needs_background": "light"
     },
     "output_type": "display_data"
    }
   ],
   "source": [
    "# ploting the graph\n",
    "plt.scatter(x_test[x_test.columns[0]], y_test, label='True Data')\n",
    "plt.plot(x_test_sorted[x_test.columns[0]], y_pred_sorted, color='red', linewidth=3, label='Decision Tree Regression')\n",
    "plt.xlabel(x_test.columns[0])\n",
    "plt.ylabel('MEDV')\n",
    "plt.legend()\n",
    "plt.show()"
   ]
  },
  {
   "cell_type": "code",
   "execution_count": null,
   "id": "868c735c",
   "metadata": {},
   "outputs": [],
   "source": []
  }
 ],
 "metadata": {
  "kernelspec": {
   "display_name": "Python 3 (ipykernel)",
   "language": "python",
   "name": "python3"
  },
  "language_info": {
   "codemirror_mode": {
    "name": "ipython",
    "version": 3
   },
   "file_extension": ".py",
   "mimetype": "text/x-python",
   "name": "python",
   "nbconvert_exporter": "python",
   "pygments_lexer": "ipython3",
   "version": "3.9.12"
  }
 },
 "nbformat": 4,
 "nbformat_minor": 5
}
